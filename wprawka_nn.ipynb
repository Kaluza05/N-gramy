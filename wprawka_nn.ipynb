{
 "cells": [
  {
   "cell_type": "code",
   "execution_count": 235,
   "metadata": {},
   "outputs": [],
   "source": [
    "#\n",
    "#import numpy as np\n",
    "#import tensorflow as tf\n",
    "#import pandas as pd\n",
    "#from random import shuffle\n",
    "#from keras import Sequential,layers,losses,optimizers"
   ]
  },
  {
   "cell_type": "code",
   "execution_count": 236,
   "metadata": {},
   "outputs": [],
   "source": [
    "N=4"
   ]
  },
  {
   "cell_type": "code",
   "execution_count": 237,
   "metadata": {},
   "outputs": [],
   "source": [
    "with open('brown.txt','r') as eng, open('lalka-tom-pierwszy.txt','r',encoding='utf8') as pol:\n",
    "    ang = {i.lower() for i in eng.read().split() if i.isalpha()}\n",
    "    pol = {i.lower() for i in pol.read().split() if i.isalpha()}\n",
    "    words = ang | pol"
   ]
  },
  {
   "cell_type": "code",
   "execution_count": 238,
   "metadata": {},
   "outputs": [],
   "source": [
    "from itertools import chain\n",
    "def N_gram(word,n:int=2):\n",
    "    tokens = [token for token in word]\n",
    "    n_grams = zip(*[tokens[i:] for i in range(n)])\n",
    "    n_grams = [''.join(i) for i in n_grams]\n",
    "    return n_grams\n",
    "\n",
    "def every_N_gram(word,n:int=2):\n",
    "    return list(chain.from_iterable([N_gram(word,i) for i in range(1,n+1)]))\n",
    "\n",
    "def buildable_n_gram(words_list,n=2):\n",
    "    t = set()\n",
    "    for word in words_list:\n",
    "        for gram in every_N_gram(word,n):\n",
    "            t.add(gram)\n",
    "    return t"
   ]
  },
  {
   "cell_type": "code",
   "execution_count": 239,
   "metadata": {},
   "outputs": [
    {
     "name": "stdout",
     "output_type": "stream",
     "text": [
      "49348\n"
     ]
    }
   ],
   "source": [
    "every_n_gram_list = buildable_n_gram(words,N)\n",
    "print(len(every_n_gram_list))"
   ]
  },
  {
   "cell_type": "markdown",
   "metadata": {},
   "source": [
    "Dla każdego słowa można znalezc n-gramy\n",
    "obliczyc n-gramy polskie i angielskie osobno, porównać częstotliwość i wybrać to większe"
   ]
  },
  {
   "cell_type": "code",
   "execution_count": 240,
   "metadata": {},
   "outputs": [],
   "source": [
    "def lang_gram_freq(words,n=2):\n",
    "    lang_freq = {}\n",
    "    for word in words:\n",
    "        grams = every_N_gram(word,n)\n",
    "        for gram in grams:\n",
    "            if gram in lang_freq:\n",
    "                lang_freq[gram] += 1\n",
    "            else:\n",
    "                lang_freq[gram] = 1\n",
    "    return {gr:lang_freq[gr]/len(words) for gr in lang_freq}\n",
    "pol_freq = lang_gram_freq(pol,N)\n",
    "eng_freq = lang_gram_freq(ang,N)"
   ]
  },
  {
   "cell_type": "code",
   "execution_count": 241,
   "metadata": {},
   "outputs": [],
   "source": [
    "def freq(dct,gram):\n",
    "    return dct[gram] if gram in dct else 0"
   ]
  },
  {
   "cell_type": "code",
   "execution_count": 242,
   "metadata": {},
   "outputs": [],
   "source": [
    "languages_freq_compare = {gram:tuple(map(lambda x:freq(x,gram),[pol_freq,eng_freq]))for gram in every_n_gram_list}"
   ]
  },
  {
   "cell_type": "code",
   "execution_count": 243,
   "metadata": {},
   "outputs": [],
   "source": [
    "def word_score(word,n=2):\n",
    "    score = 0\n",
    "    for t in every_N_gram(word,n):\n",
    "        if t not in languages_freq_compare:\n",
    "            continue\n",
    "        p,e = languages_freq_compare[t]\n",
    "        if p == 0:\n",
    "            return -1\n",
    "        if e == 0:\n",
    "            return 1\n",
    "        else:\n",
    "            if p == e:continue\n",
    "            score += p/e if p>e else -p/e\n",
    "    return score\n",
    "        \n",
    "def guess_lang(word,n=2):\n",
    "    return 'pol' if word_score(word,n) >= 0 else 'ang'"
   ]
  },
  {
   "cell_type": "code",
   "execution_count": 244,
   "metadata": {},
   "outputs": [],
   "source": [
    "#N=5 0.9316992830846735"
   ]
  },
  {
   "cell_type": "code",
   "execution_count": 245,
   "metadata": {},
   "outputs": [
    {
     "name": "stdout",
     "output_type": "stream",
     "text": [
      "0.9278240651036621\n"
     ]
    }
   ],
   "source": [
    "with open('do_wprawki.txt','r',encoding='utf8') as data:\n",
    "    data = data.read().splitlines()\n",
    "    test_set = {word.split()[1]:word.split()[0] for word in data}\n",
    "    ans = [1 for i in test_set if guess_lang(i,N)==test_set[i]]\n",
    "    print(len(ans)/len(test_set))"
   ]
  },
  {
   "cell_type": "code",
   "execution_count": null,
   "metadata": {},
   "outputs": [],
   "source": [
    "for i in test_set:\n",
    "    if guess_lang(i,N)!=test_set[i]:\n",
    "        print(i)"
   ]
  }
 ],
 "metadata": {
  "kernelspec": {
   "display_name": "Python 3",
   "language": "python",
   "name": "python3"
  },
  "language_info": {
   "codemirror_mode": {
    "name": "ipython",
    "version": 3
   },
   "file_extension": ".py",
   "mimetype": "text/x-python",
   "name": "python",
   "nbconvert_exporter": "python",
   "pygments_lexer": "ipython3",
   "version": "3.12.8"
  }
 },
 "nbformat": 4,
 "nbformat_minor": 2
}
